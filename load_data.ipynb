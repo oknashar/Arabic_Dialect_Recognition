{
 "cells": [
  {
   "cell_type": "code",
   "execution_count": 1,
   "metadata": {},
   "outputs": [],
   "source": [
    "import pandas as pd\n",
    "import numpy as np\n",
    "import requests\n",
    "import re"
   ]
  },
  {
   "cell_type": "code",
   "execution_count": 2,
   "metadata": {},
   "outputs": [],
   "source": [
    "data = pd.read_csv('data/dialect_dataset.csv')"
   ]
  },
  {
   "cell_type": "code",
   "execution_count": 42,
   "metadata": {},
   "outputs": [],
   "source": [
    "urls = 'https://recruitment.aimtechnologies.co/ai-tasks'\n",
    "\n",
    "def get_data(id):\n",
    "    try:\n",
    "        r = requests.post(urls, json=id)\n",
    "        ## conver data to json\n",
    "        data =dict(r.json())\n",
    "        text=list(data.values())\n",
    "        # print(text)\n",
    "        return text\n",
    "    except:\n",
    "        print('error')\n",
    "        return None\n",
    "    \n",
    "def load_data(data):\n",
    "    \n",
    "    data['id2'] =data['id'].apply(lambda x: str(x))\n",
    "    ids=list(data.id2)\n",
    "    texts = []\n",
    "    j=0\n",
    "    for i in range(int(len(ids)/1000)+1):\n",
    "        data1=get_data(ids[j:j+1000])\n",
    "        j+=1000\n",
    "        texts+=data1\n",
    "    data.drop(['id2'], axis=1, inplace=True)\n",
    "    data['text']=texts\n",
    "    return data\n"
   ]
  },
  {
   "cell_type": "code",
   "execution_count": 2,
   "metadata": {},
   "outputs": [],
   "source": [
    "data = load_data(data)"
   ]
  },
  {
   "cell_type": "code",
   "execution_count": 36,
   "metadata": {},
   "outputs": [],
   "source": [
    "data.to_csv('data/dialect_dataset_loaded.csv', index=False)  "
   ]
  },
  {
   "cell_type": "code",
   "execution_count": null,
   "metadata": {},
   "outputs": [],
   "source": []
  }
 ],
 "metadata": {
  "interpreter": {
   "hash": "5e52a2a90077a3700b6e3cf04b7991ef72a17425ada7d4d14d9595a5a4dc46bf"
  },
  "kernelspec": {
   "display_name": "Python 3.10.2 64-bit (windows store)",
   "language": "python",
   "name": "python3"
  },
  "language_info": {
   "codemirror_mode": {
    "name": "ipython",
    "version": 3
   },
   "file_extension": ".py",
   "mimetype": "text/x-python",
   "name": "python",
   "nbconvert_exporter": "python",
   "pygments_lexer": "ipython3",
   "version": "3.9.10"
  },
  "orig_nbformat": 4
 },
 "nbformat": 4,
 "nbformat_minor": 2
}
